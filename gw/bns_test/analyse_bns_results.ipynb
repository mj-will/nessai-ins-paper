{
 "cells": [
  {
   "cell_type": "code",
   "execution_count": null,
   "id": "da8d9e6a",
   "metadata": {
    "tags": []
   },
   "outputs": [],
   "source": [
    "from configparser import ConfigParser\n",
    "import copy\n",
    "import sys\n",
    "import glob\n",
    "import os\n",
    "import json\n",
    "import re\n",
    "import pandas as pd\n",
    "import itertools\n",
    "\n",
    "import bilby\n",
    "import numpy as np\n",
    "import matplotlib.pyplot as plt\n",
    "import pandas as pd\n",
    "from scipy.stats import norm\n",
    "from scipy.special import logsumexp\n",
    "import seaborn as sns\n",
    "\n",
    "np.random.seed(1234)\n",
    "\n",
    "basedir = \"../../\"\n",
    "\n",
    "sys.path.append(basedir)\n",
    "\n",
    "from utils import configure_plotting, natural_sort\n",
    "configure_plotting(basedir)\n",
    "\n",
    "linewidth = 6.17804\n",
    "\n",
    "\n",
    "# Disable the bilby plotting style\n",
    "os.environ[\"BILBY_STYLE\"] = \"none\"\n",
    "\n",
    "from js import calculate_js"
   ]
  },
  {
   "cell_type": "code",
   "execution_count": null,
   "id": "1f97d6fb-c7e9-4fda-b317-8ae0eb59401c",
   "metadata": {
    "tags": []
   },
   "outputs": [],
   "source": [
    "parser = ConfigParser()\n",
    "with open(\"config.mk\") as stream:\n",
    "    parser.read_string(\"[top]\\n\" + stream.read())\n",
    "config = parser[\"top\"]"
   ]
  },
  {
   "cell_type": "code",
   "execution_count": null,
   "id": "dd6ac330",
   "metadata": {
    "tags": []
   },
   "outputs": [],
   "source": [
    "result_paths = {\n",
    "    'dynesty': os.path.join(config[\"dynesty_outdir\"], \"\"),\n",
    "    'nessai': os.path.join(config[\"nessai_outdir\"], \"\"),\n",
    "    'inessai': os.path.join(config[\"inessai_outdir\"], \"\"),\n",
    "}\n",
    "print(f\"Using the following result paths: {result_paths}\")"
   ]
  },
  {
   "cell_type": "code",
   "execution_count": null,
   "id": "4f6e2e52",
   "metadata": {
    "tags": []
   },
   "outputs": [],
   "source": [
    "results = {}\n",
    "for s, rp in result_paths.items():\n",
    "    files = natural_sort(glob.glob(os.path.join(rp, \"result\", \"*par*.hdf5\")))\n",
    "    res = []\n",
    "    for rf in files:\n",
    "        res.append(bilby.core.result.read_in_result(rf))\n",
    "    results[s] = res\n",
    "results_list = list(results.values())\n",
    "samplers = list(results.keys())"
   ]
  },
  {
   "cell_type": "code",
   "execution_count": null,
   "id": "f337215a",
   "metadata": {
    "tags": []
   },
   "outputs": [],
   "source": [
    "merge_results = {}\n",
    "for s, rp in result_paths.items():\n",
    "    file = natural_sort(glob.glob(os.path.join(rp, \"result\", \"*merge*.hdf5\")))\n",
    "    merge_results[s] = bilby.core.result.read_in_result(file[0])\n",
    "merge_results_list = list(merge_results.values())\n",
    "samplers = list(results.keys())"
   ]
  },
  {
   "cell_type": "markdown",
   "id": "b2f0d9e6",
   "metadata": {},
   "source": [
    "# Table results"
   ]
  },
  {
   "cell_type": "code",
   "execution_count": null,
   "id": "413b22f0",
   "metadata": {},
   "outputs": [],
   "source": [
    "sampler_labels = {\n",
    "    \"dynesty\": r\"\\codestyle{dynesty}\",\n",
    "    \"nessai\": r\"\\codestyle{nessai}\",\n",
    "    \"inessai\": r\"\\codestyle{i-nessai}\",\n",
    "}"
   ]
  },
  {
   "cell_type": "code",
   "execution_count": null,
   "id": "989d9a6a",
   "metadata": {},
   "outputs": [],
   "source": [
    "field_labels = {\n",
    "    \"wall_time\": \"Wall time [min]\",\n",
    "    \"n_likelihood_evaluations\": \"Likelihood evaluations\",\n",
    "    \"ess\": \"Effective sample size\",\n",
    "}"
   ]
  },
  {
   "cell_type": "code",
   "execution_count": null,
   "id": "74320f17",
   "metadata": {},
   "outputs": [],
   "source": [
    "table_results = {}\n",
    "for sampler, sampler_results in results.items():\n",
    "    table_results[sampler] = dict(\n",
    "        wall_time=[],\n",
    "        n_likelihood_evaluations=[],\n",
    "        ess=[],\n",
    "    )\n",
    "    for res in sampler_results:\n",
    "        table_results[sampler][\"wall_time\"].append(res.sampling_time.total_seconds() / 60)\n",
    "        table_results[sampler][\"n_likelihood_evaluations\"].append(res.num_likelihood_evaluations)\n",
    "        log_w = np.log(res.nested_samples['weights'])\n",
    "        ess = np.exp(2 * logsumexp(log_w)-logsumexp(2 * log_w))\n",
    "        table_results[sampler][\"ess\"].append(ess)\n",
    "        "
   ]
  },
  {
   "cell_type": "code",
   "execution_count": null,
   "id": "3a8127d6",
   "metadata": {},
   "outputs": [],
   "source": [
    "table_results"
   ]
  },
  {
   "cell_type": "code",
   "execution_count": null,
   "id": "1540e2d0",
   "metadata": {},
   "outputs": [],
   "source": [
    "summary = {}\n",
    "for sampler, tr in table_results.items():\n",
    "    sk = sampler_labels.get(sampler)\n",
    "    summary[sk] = {}\n",
    "    summary[sk][field_labels.get(\"wall_time\")] = \\\n",
    "        f\"${np.mean(tr['wall_time']):.1f}$\" \n",
    "    summary[sk][field_labels.get(\"n_likelihood_evaluations\")] = \\\n",
    "        r\"$\\num{\" + f\"{np.mean(tr['n_likelihood_evaluations']):.2e}\" + \"}$\"\n",
    "    summary[sk][field_labels.get(\"ess\")] = \\\n",
    "        f\"${np.mean(tr['ess']):.0f}$\" "
   ]
  },
  {
   "cell_type": "code",
   "execution_count": null,
   "id": "1110d01e",
   "metadata": {},
   "outputs": [],
   "source": [
    "for sampler in [\"dynesty\", \"nessai\"]:\n",
    "    print(sampler)\n",
    "    print(\"likelihood ratio\", np.mean(table_results[sampler][\"n_likelihood_evaluations\"]) / np.mean(table_results[\"inessai\"][\"n_likelihood_evaluations\"]))\n",
    "    print(\"time ratio \",np.mean(table_results[sampler][\"wall_time\"]) / np.mean(table_results[\"inessai\"][\"wall_time\"]))"
   ]
  },
  {
   "cell_type": "code",
   "execution_count": null,
   "id": "1bb645a9",
   "metadata": {},
   "outputs": [],
   "source": [
    "df = pd.DataFrame(summary).T\n",
    "print(df)"
   ]
  },
  {
   "cell_type": "code",
   "execution_count": null,
   "id": "0d13cde0",
   "metadata": {},
   "outputs": [],
   "source": [
    "with open(\"results/bns_comparison_table_one_run.tex\", \"w\") as fp:\n",
    "    fp.write(df.style.to_latex(hrules=True, column_format=\"lccc\"))"
   ]
  },
  {
   "cell_type": "code",
   "execution_count": null,
   "id": "3c6bb917",
   "metadata": {},
   "outputs": [],
   "source": [
    "summary = {}\n",
    "for sampler, tr in table_results.items():\n",
    "    sk = sampler_labels.get(sampler)\n",
    "    summary[sk] = {}\n",
    "    summary[sk][field_labels.get(\"wall_time\")] = \\\n",
    "        f\"${np.mean(tr['wall_time']):.1f} \\pm {np.std(tr['wall_time']):.1f}$\" \n",
    "    summary[sk][field_labels.get(\"n_likelihood_evaluations\")] = \\\n",
    "        r\"$\\num{\" + f\"{np.mean(tr['n_likelihood_evaluations']):.2e}\" + r\"}\\pm\\num{\" + f\"{np.std(tr['n_likelihood_evaluations']):.2e}\" + r\"}$\" \n",
    "    summary[sk][field_labels.get(\"ess\")] = \\\n",
    "        f\"${np.mean(tr['ess']):.0f} \\pm {np.std(tr['ess']):.0f}$\" "
   ]
  },
  {
   "cell_type": "code",
   "execution_count": null,
   "id": "88c37bc8",
   "metadata": {},
   "outputs": [],
   "source": [
    "df = pd.DataFrame(summary).T\n",
    "print(df)"
   ]
  },
  {
   "cell_type": "code",
   "execution_count": null,
   "id": "062bff35",
   "metadata": {},
   "outputs": [],
   "source": [
    "with open(\"results/bns_comparison_table.tex\", \"w\") as fp:\n",
    "    fp.write(df.style.to_latex(hrules=True, column_format=\"lccc\"))"
   ]
  },
  {
   "cell_type": "markdown",
   "id": "903b494c",
   "metadata": {},
   "source": [
    "# Corner plot"
   ]
  },
  {
   "cell_type": "code",
   "execution_count": null,
   "id": "bb7fa61b",
   "metadata": {
    "tags": []
   },
   "outputs": [],
   "source": [
    "cbc_param_labels = {\n",
    "    'a_1': r'$\\chi_1$', \n",
    "    'a_2': r'$\\chi_2$', \n",
    "    'chirp_mass': r'$\\mathcal{M}\\;[\\textrm{M}_\\odot]$', \n",
    "    'dec': r'$\\delta$',\n",
    "    'ra': r'$\\alpha$',\n",
    "    'geocent_time': r'$t_\\textrm{c}\\;[\\textrm{s}]$',\n",
    "    'luminosity_distance': r'$d_\\textrm{L}$',\n",
    "    'mass_ratio': '$q$',\n",
    "    'tilt_1': r'$\\theta_1$',\n",
    "    'tilt_2': r'$\\theta_2$',\n",
    "    'phi_12': r'$\\phi_{12}$',\n",
    "    'phi_jl': r'$\\phi_{JL}$',\n",
    "    'psi': r'$\\psi$',\n",
    "    'theta_jn': r'$\\theta_{JN}$',\n",
    "    'chi_1': r\"$\\chi_1$\",\n",
    "    \"chi_2\": r\"$\\chi_2$\",\n",
    "}\n",
    "\n",
    "cbc_param_labels_wo_units = {\n",
    "    'a_1': r'$\\chi_1$', \n",
    "    'a_2': r'$\\chi_2$', \n",
    "    'chirp_mass': r'$\\mathcal{M}$', \n",
    "    'dec': r'$\\delta$',\n",
    "    'ra': r'$\\alpha$',\n",
    "    'geocent_time': r'$t_\\textrm{c}$',\n",
    "    'luminosity_distance': r'$d_\\textrm{L}$',\n",
    "    'mass_ratio': '$q$',\n",
    "    'tilt_1': r'$\\theta_1$',\n",
    "    'tilt_2': r'$\\theta_2$',\n",
    "    'phi_12': r'$\\phi_{12}$',\n",
    "    'phi_jl': r'$\\phi_{JL}$',\n",
    "    'psi': r'$\\psi$',\n",
    "    'theta_jn': r'$\\theta_{JN}$',\n",
    "    'chi_1': r\"$\\chi_1$\",\n",
    "    \"chi_2\": r\"$\\chi_2$\",\n",
    "}\n"
   ]
  },
  {
   "cell_type": "code",
   "execution_count": null,
   "id": "e093b013",
   "metadata": {
    "tags": []
   },
   "outputs": [],
   "source": [
    "parameters = results_list[0][0].search_parameter_keys\n",
    "print(parameters)\n",
    "corner_labels = [cbc_param_labels.get(p) for p in parameters]\n",
    "print(corner_labels)"
   ]
  },
  {
   "cell_type": "code",
   "execution_count": null,
   "id": "02f393d2",
   "metadata": {
    "tags": []
   },
   "outputs": [],
   "source": [
    "with sns.plotting_context(\n",
    "    rc={   \n",
    "        \"xtick.labelsize\": 24,\n",
    "        \"ytick.labelsize\": 24,\n",
    "        \"xtick.major.size\" : 6,\n",
    "        \"xtick.major.width\" : 1.0,\n",
    "        \"xtick.minor.size\" : 3.0,\n",
    "        \"xtick.minor.width\" : 1.0,\n",
    "        \"ytick.major.size\" : 6,\n",
    "        \"ytick.major.width\" : 1.0,\n",
    "        \"ytick.minor.size\" : 3,\n",
    "        \"ytick.minor.width\" : 1.0,\n",
    "        \"lines.linewidth\": 2.0,\n",
    "        \"patch.linewidth\": 2.0,\n",
    "    }\n",
    "):\n",
    "\n",
    "    fig = bilby.core.result.plot_multiple(\n",
    "        merge_results_list,\n",
    "        parameters=parameters,\n",
    "        bins=50,\n",
    "        colours=[\"C2\", \"C1\", \"C0\"],\n",
    "        titles=False,\n",
    "        fill_contours=False,\n",
    "        smooth=0.95,\n",
    "        label_kwargs=dict(fontsize=32),\n",
    "        plot_datapoints=False,\n",
    "        corner_labels=corner_labels,\n",
    "        labelpad=0.12,\n",
    "    )\n",
    "    axs = fig.get_axes()\n",
    "    for a in axs:\n",
    "        try:\n",
    "            a.get_legend().remove()\n",
    "        except AttributeError:\n",
    "            pass"
   ]
  },
  {
   "cell_type": "code",
   "execution_count": null,
   "id": "a49b3e45",
   "metadata": {
    "tags": []
   },
   "outputs": [],
   "source": [
    "fig.savefig(\"figures/bns_corner_plot.pdf\")"
   ]
  },
  {
   "cell_type": "code",
   "execution_count": null,
   "id": "573da935",
   "metadata": {
    "tags": []
   },
   "outputs": [],
   "source": [
    "fig.savefig(\"figures/bns_corner_plot.png\", transparent=True)"
   ]
  },
  {
   "cell_type": "markdown",
   "id": "7249b1b8",
   "metadata": {},
   "source": [
    "# JS results"
   ]
  },
  {
   "cell_type": "code",
   "execution_count": null,
   "id": "8d366b36",
   "metadata": {},
   "outputs": [],
   "source": [
    "combinations = list(itertools.combinations(samplers, 2))\n",
    "names = [f'{a}-{b}' for a, b in combinations]\n",
    "parameters = merge_results[\"dynesty\"].search_parameter_keys\n",
    "labels = merge_results[\"dynesty\"].parameter_labels_with_unit\n",
    "n_samples = 5_000\n",
    "threshold = 10 / n_samples\n",
    "print(f\"Threshold: {threshold}\")\n",
    "# Convert to millinats\n",
    "conversion_factor = 1000"
   ]
  },
  {
   "cell_type": "code",
   "execution_count": null,
   "id": "9be7d0e0",
   "metadata": {},
   "outputs": [],
   "source": [
    "combinations"
   ]
  },
  {
   "cell_type": "code",
   "execution_count": null,
   "id": "6e18d2d5",
   "metadata": {},
   "outputs": [],
   "source": [
    "js_results = {}\n",
    "for comb in combinations:\n",
    "    print(comb)\n",
    "    name = rf'\\{comb[0].replace(\"-\", \"\")}-\\{comb[1].replace(\"-\", \"\")}'\n",
    "    js = {}\n",
    "    std = {}\n",
    "    for p in parameters:\n",
    "        # val = js_bootstrap(p, post_dict[comb[0]], post_dict[comb[1]], 2000, 5, decimals=3)\n",
    "        summary = calculate_js(\n",
    "            merge_results[comb[0]].posterior[p],\n",
    "            merge_results[comb[1]].posterior[p],\n",
    "            nsamples=n_samples,\n",
    "            base=np.e,  # nats\n",
    "        )\n",
    "        # Convert to desired units\n",
    "        summary.median *= conversion_factor\n",
    "        summary.plus *= conversion_factor\n",
    "        summary.minus *= conversion_factor\n",
    "        \n",
    "        label = cbc_param_labels_wo_units.get(p)\n",
    "        \n",
    "        js[label] = f'${summary.median:.2f}' + '^{' + f'{summary.plus:.2f}' + '}_{-' + f'{summary.minus:.2f}' + '}$' \n",
    "    js_results[name] = js"
   ]
  },
  {
   "cell_type": "markdown",
   "id": "c21fe749",
   "metadata": {},
   "source": [
    "Convert to a dataframe since this will format the results as table"
   ]
  },
  {
   "cell_type": "code",
   "execution_count": null,
   "id": "7f4b2540",
   "metadata": {},
   "outputs": [],
   "source": [
    "df = pd.DataFrame(js_results)\n",
    "df"
   ]
  },
  {
   "cell_type": "markdown",
   "id": "f2d369d7",
   "metadata": {},
   "source": [
    "Write the dataframe to a latex table."
   ]
  },
  {
   "cell_type": "code",
   "execution_count": null,
   "id": "3feef93e",
   "metadata": {},
   "outputs": [],
   "source": [
    "with open(\"results/js_table.tex\", \"w\") as fp:\n",
    "    fp.write(df.style.to_latex(hrules=True))"
   ]
  },
  {
   "cell_type": "markdown",
   "id": "3ef41921-b772-4745-aa6e-587ec54531e8",
   "metadata": {},
   "source": [
    "Replace hrules to match IOP guidelines"
   ]
  },
  {
   "cell_type": "code",
   "execution_count": null,
   "id": "ef6c7e7a",
   "metadata": {},
   "outputs": [],
   "source": [
    "for tex_file in glob.glob(\"results/*.tex\"):\n",
    "    print(tex_file)\n",
    "    with open(tex_file, \"r\") as f:\n",
    "        new_text = f.read()\n",
    "    new_text = new_text.replace(\"toprule\", \"br\")\n",
    "    new_text = new_text.replace(\"midrule\", \"mr\")\n",
    "    new_text = new_text.replace(\"bottomrule\", \"br\")\n",
    "    with open(tex_file, \"w\") as f:\n",
    "        f.write(new_text)"
   ]
  },
  {
   "cell_type": "code",
   "execution_count": null,
   "id": "a76c9a79-d8af-48f7-8ad9-907d29057cbf",
   "metadata": {},
   "outputs": [],
   "source": []
  }
 ],
 "metadata": {
  "kernelspec": {
   "display_name": "Nessai INS Paper",
   "language": "python",
   "name": "nessai-ins-paper"
  },
  "language_info": {
   "codemirror_mode": {
    "name": "ipython",
    "version": 3
   },
   "file_extension": ".py",
   "mimetype": "text/x-python",
   "name": "python",
   "nbconvert_exporter": "python",
   "pygments_lexer": "ipython3",
   "version": "3.9.13"
  }
 },
 "nbformat": 4,
 "nbformat_minor": 5
}

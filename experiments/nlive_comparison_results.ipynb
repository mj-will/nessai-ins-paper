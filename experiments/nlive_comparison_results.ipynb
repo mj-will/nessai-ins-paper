{
 "cells": [
  {
   "cell_type": "code",
   "execution_count": null,
   "metadata": {},
   "outputs": [],
   "source": [
    "import glob\n",
    "import re\n",
    "import sys\n",
    "\n",
    "import matplotlib.pyplot as plt\n",
    "import numpy as np\n",
    "\n",
    "basedir = \"../\"\n",
    "\n",
    "sys.path.append(basedir)\n",
    "\n",
    "\n",
    "from utils import configure_plotting, find_results_files, load_results, natural_sort\n",
    "\n",
    "configure_plotting(basedir)"
   ]
  },
  {
   "cell_type": "code",
   "execution_count": null,
   "metadata": {},
   "outputs": [],
   "source": [
    "default_figsize = plt.rcParams[\"figure.figsize\"]"
   ]
  },
  {
   "cell_type": "code",
   "execution_count": null,
   "metadata": {},
   "outputs": [],
   "source": [
    "path = \"outdir_rerun/ins_nlive_gaussian_16d_nlive*\""
   ]
  },
  {
   "cell_type": "code",
   "execution_count": null,
   "metadata": {},
   "outputs": [],
   "source": [
    "result_dirs = natural_sort(glob.glob(path))\n",
    "regex = re.compile(r\"\\d+\")\n",
    "nlive_values = [int(regex.findall(p)[-1]) for p in result_dirs]\n",
    "print(f\"Found nlive={nlive_values}\")\n",
    "res = {}\n",
    "for path, t in zip(result_dirs, nlive_values):\n",
    "    files = find_results_files(path)\n",
    "    res[t] = load_results(files)"
   ]
  },
  {
   "cell_type": "code",
   "execution_count": null,
   "metadata": {},
   "outputs": [],
   "source": [
    "figsize = (5/13 * default_figsize[0], 1.8 * default_figsize[1])\n",
    "fig, axs = plt.subplots(\n",
    "    5, 1, sharex=True, figsize=figsize,\n",
    "    gridspec_kw={\"hspace\": 0.1, \"wspace\": 0.1},\n",
    ")\n",
    "vals = np.array(list(res.keys()))\n",
    "for nlive, r in res.items():\n",
    "    axs[0].errorbar(\n",
    "        nlive,\n",
    "        r[\"final_log_evidence\"].mean(),\n",
    "        yerr=r[\"final_log_evidence\"].std(),\n",
    "        ls=\"\",\n",
    "        marker=\".\",\n",
    "        c=\"C0\",\n",
    "    )\n",
    "\n",
    "\n",
    "axs[0].set_ylabel(r\"$\\ln (\\hat{Z} / Z_{\\textrm{True}})$\")\n",
    "\n",
    "\n",
    "for nlive, r in res.items():\n",
    "    axs[1].errorbar(\n",
    "        nlive,\n",
    "        r[\"final_log_evidence_error\"].mean(),\n",
    "        yerr=r[\"final_log_evidence_error\"].std(),\n",
    "        ls=\"\",\n",
    "        marker=\".\",\n",
    "        c=\"C0\",\n",
    "    )\n",
    "\n",
    "axs[1].set_ylabel(r\"$\\sigma [\\ln \\hat{Z}]$\")\n",
    "\n",
    "key = \"likelihood_evaluations\"\n",
    "\n",
    "for nlive, r in res.items():\n",
    "    axs[2].errorbar(\n",
    "        nlive,\n",
    "        r[key].mean(),\n",
    "        yerr=r[key].std(),\n",
    "        ls=\"\",\n",
    "        marker=\".\",\n",
    "        c=\"C0\",\n",
    "    )\n",
    "axs[2].set_ylabel(\"Likelihood \\nevaluations\")\n",
    "\n",
    "key = \"sampling_time\"\n",
    "for nlive, r in res.items():\n",
    "    axs[3].errorbar(\n",
    "        nlive,\n",
    "        r[key].mean(),\n",
    "        yerr=r[key].std(),\n",
    "        ls=\"\",\n",
    "        marker=\".\",\n",
    "        c=\"C0\",\n",
    "    )\n",
    "axs[3].set_ylabel(\"Wall time [s]\")\n",
    "\n",
    "key = \"ess\"\n",
    "for nlive, r in res.items():\n",
    "    axs[4].errorbar(\n",
    "        nlive,\n",
    "        r[key].mean(),\n",
    "        yerr=r[key].std(),\n",
    "        ls=\"\",\n",
    "        marker=\".\",\n",
    "        c=\"C0\",\n",
    "    )\n",
    "axs[4].set_ylabel(\"ESS\")\n",
    "\n",
    "axs[-1].set_xlabel(r\"$N_{\\textrm{Live}}$\")\n",
    "# axs[-1].set_xticks(vals)\n",
    "\n",
    "for ax in axs:\n",
    "    ax.grid(axis=\"both\")\n",
    "\n",
    "plt.tight_layout()\n",
    "# plt.subplots_adjust(hspace=0.15)\n",
    "\n",
    "fig.savefig(\"figures_rerun/scaling.pdf\", bbox_inches=\"tight\")\n",
    "plt.show()"
   ]
  },
  {
   "cell_type": "code",
   "execution_count": null,
   "metadata": {},
   "outputs": [],
   "source": [
    "print(\"Increase in average sampling time\")\n",
    "print(res[10000][\"sampling_time\"].mean() / res[100][\"sampling_time\"].mean())"
   ]
  },
  {
   "cell_type": "code",
   "execution_count": null,
   "metadata": {},
   "outputs": [],
   "source": []
  }
 ],
 "metadata": {
  "kernelspec": {
   "display_name": "Nessai INS Paper",
   "language": "python",
   "name": "nessai-ins-paper"
  },
  "language_info": {
   "codemirror_mode": {
    "name": "ipython",
    "version": 3
   },
   "file_extension": ".py",
   "mimetype": "text/x-python",
   "name": "python",
   "nbconvert_exporter": "python",
   "pygments_lexer": "ipython3",
   "version": "3.9.13"
  }
 },
 "nbformat": 4,
 "nbformat_minor": 4
}

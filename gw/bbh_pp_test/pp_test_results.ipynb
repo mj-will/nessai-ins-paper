{
 "cells": [
  {
   "cell_type": "markdown",
   "metadata": {},
   "source": [
    "Notebooks for analysing BBH P-P test results.\n",
    "\n",
    "Michael J. Williams 2023"
   ]
  },
  {
   "cell_type": "code",
   "execution_count": null,
   "metadata": {
    "tags": []
   },
   "outputs": [],
   "source": [
    "import glob\n",
    "import re\n",
    "import sys\n",
    "import datetime\n",
    "\n",
    "import bilby\n",
    "import matplotlib.pyplot as plt\n",
    "import numpy as np\n",
    "\n",
    "basedir = \"../../\"\n",
    "sys.path.append(basedir)\n",
    "\n",
    "from pp_plot import make_pp_plot, cbc_param_labels as labels\n",
    "from utils import configure_plotting, load_json, natural_sort\n",
    "\n",
    "configure_plotting(basedir)\n",
    "figsize = plt.rcParams['figure.figsize']\n",
    "linewidth = 6.17804"
   ]
  },
  {
   "cell_type": "markdown",
   "metadata": {},
   "source": [
    "Specify the result paths"
   ]
  },
  {
   "cell_type": "code",
   "execution_count": null,
   "metadata": {
    "tags": []
   },
   "outputs": [],
   "source": [
    "nessai_path = \"outdir_nessai_fix/\"\n",
    "dynesty_path = \"outdir_dynesty_precessing/\"\n",
    "inessai_path = \"outdir_inessai_A/\""
   ]
  },
  {
   "cell_type": "code",
   "execution_count": null,
   "metadata": {
    "tags": []
   },
   "outputs": [],
   "source": [
    "def load_all_results(base_path, file_extension=\"hdf5\"):\n",
    "    path = f\"{base_path}/result/*result.{file_extension}\"\n",
    "    files = natural_sort(glob.glob(path))\n",
    "    print(f'Found: {len(files)} results')\n",
    "    results = [bilby.core.result.read_in_result(f) for f in files]\n",
    "    return results"
   ]
  },
  {
   "cell_type": "code",
   "execution_count": null,
   "metadata": {
    "tags": []
   },
   "outputs": [],
   "source": [
    "def load_nessai_result_files(base_path):\n",
    "    nessai_path = f\"{base_path}/result/*_nessai/result.json\"\n",
    "    nessai_files = natural_sort(glob.glob(nessai_path))\n",
    "    print(f'Found: {len(nessai_files)} nessai results files')\n",
    "    nessai_results = [load_json(f) for f in nessai_files]\n",
    "    return nessai_results"
   ]
  },
  {
   "cell_type": "code",
   "execution_count": null,
   "metadata": {
    "tags": []
   },
   "outputs": [],
   "source": [
    "inessai_results = load_all_results(inessai_path)"
   ]
  },
  {
   "cell_type": "code",
   "execution_count": null,
   "metadata": {
    "tags": []
   },
   "outputs": [],
   "source": [
    "nessai_results = load_all_results(nessai_path)"
   ]
  },
  {
   "cell_type": "code",
   "execution_count": null,
   "metadata": {
    "tags": []
   },
   "outputs": [],
   "source": [
    "dynesty_results = load_all_results(dynesty_path)"
   ]
  },
  {
   "cell_type": "code",
   "execution_count": null,
   "metadata": {
    "tags": []
   },
   "outputs": [],
   "source": [
    "fig, _ = make_pp_plot(inessai_results, labels=labels, height=figsize[0], width=figsize[0])\n",
    "fig.savefig(f\"figures/pp_plot_inessai.pdf\")"
   ]
  },
  {
   "cell_type": "markdown",
   "metadata": {},
   "source": [
    "Smaller version of P-P plots for appendices"
   ]
  },
  {
   "cell_type": "code",
   "execution_count": null,
   "metadata": {},
   "outputs": [],
   "source": [
    "for sampler, results in zip(\n",
    "    [\"nessai\", \"dynesty\"],\n",
    "    [nessai_results, dynesty_results]\n",
    "):\n",
    "    print(f\"Sampler: {sampler}\")\n",
    "    fig, _ = make_pp_plot(results, labels=labels, height=0.65 * linewidth, width=0.65 * linewidth, legend_fontsize=\"small\")\n",
    "    fig.savefig(f\"figures/pp_plot_{sampler}.pdf\")"
   ]
  },
  {
   "cell_type": "markdown",
   "metadata": {},
   "source": [
    "## Nessai result files\n",
    "\n",
    "These files contain more statistics"
   ]
  },
  {
   "cell_type": "code",
   "execution_count": null,
   "metadata": {},
   "outputs": [],
   "source": [
    "nessai_further_results = dict()"
   ]
  },
  {
   "cell_type": "code",
   "execution_count": null,
   "metadata": {},
   "outputs": [],
   "source": [
    "nessai_further_results[\"nessai\"] = load_nessai_result_files(nessai_path)"
   ]
  },
  {
   "cell_type": "code",
   "execution_count": null,
   "metadata": {},
   "outputs": [],
   "source": [
    "nessai_further_results[\"inessai\"] = load_nessai_result_files(inessai_path)"
   ]
  },
  {
   "cell_type": "markdown",
   "metadata": {},
   "source": [
    "## Comparison"
   ]
  },
  {
   "cell_type": "code",
   "execution_count": null,
   "metadata": {},
   "outputs": [],
   "source": [
    "all_results = dict(\n",
    "    nessai=nessai_results,\n",
    "    dynesty=dynesty_results,\n",
    "    inessai=inessai_results,\n",
    ")"
   ]
  },
  {
   "cell_type": "code",
   "execution_count": null,
   "metadata": {},
   "outputs": [],
   "source": [
    "sampler_labels = {\n",
    "    \"dynesty\": r\"\\textsc{dynesty}\",\n",
    "    \"nessai\": r\"\\textsc{nessai}\",\n",
    "    \"inessai\": r\"\\textsc{i-nessai}\",\n",
    "}"
   ]
  },
  {
   "cell_type": "code",
   "execution_count": null,
   "metadata": {},
   "outputs": [],
   "source": [
    "summary = dict()\n",
    "for sampler, results in all_results.items():\n",
    "    wall_time = np.array([r.sampling_time.total_seconds() / 60 for r in results])\n",
    "    likelihood_evaluations = np.array([r.num_likelihood_evaluations for r in results])\n",
    "    summary[sampler] = dict(\n",
    "        wall_time=wall_time,\n",
    "        likelihood_evaluations=likelihood_evaluations,\n",
    "    )"
   ]
  },
  {
   "cell_type": "code",
   "execution_count": null,
   "metadata": {},
   "outputs": [],
   "source": [
    "def get_time(string):\n",
    "    \"\"\"Convert a time with days to seconds\"\"\"\n",
    "    if \"day\" in string:\n",
    "        days, string = string.split(\", \")\n",
    "        days = int(days.replace(\" day\", \"\"))\n",
    "    else:\n",
    "        days = None\n",
    "    t = datetime.datetime.strptime(string, \"%H:%M:%S.%f\") - datetime.datetime(\n",
    "        1900, 1, 1\n",
    "    )\n",
    "    if days:\n",
    "        t += datetime.timedelta(days=days)\n",
    "    return t.total_seconds()"
   ]
  },
  {
   "cell_type": "code",
   "execution_count": null,
   "metadata": {},
   "outputs": [],
   "source": [
    "summary[\"nessai\"][\"wall_time\"] = np.array([r[\"sampling_time\"] / 60 for r in nessai_further_results[\"nessai\"]])\n",
    "summary[\"inessai\"][\"wall_time\"] = np.array([(get_time(r[\"sampling_time\"]) + r[\"redraw_time\"]) / 60 for r in nessai_further_results[\"inessai\"]])"
   ]
  },
  {
   "cell_type": "code",
   "execution_count": null,
   "metadata": {},
   "outputs": [],
   "source": [
    "for sampler, result_summary in summary.items():\n",
    "    print(sampler)\n",
    "    print(f\"Wall time: {np.median(result_summary['wall_time'])}\")\n",
    "    print(f\"Likelihood evaluations: {np.median(result_summary['likelihood_evaluations'])}\")"
   ]
  },
  {
   "cell_type": "code",
   "execution_count": null,
   "metadata": {},
   "outputs": [],
   "source": [
    "for sampler in [\"dynesty\", \"nessai\"]:\n",
    "    print(sampler)\n",
    "    for key in [\"wall_time\", \"likelihood_evaluations\"]:\n",
    "        print(f\"ratio for {key}: {np.median(summary[sampler][key] / summary['inessai'][key])}\")"
   ]
  },
  {
   "cell_type": "code",
   "execution_count": null,
   "metadata": {},
   "outputs": [],
   "source": [
    "markers = {\n",
    "    \"inessai\": \".\",\n",
    "    \"nessai\": \"x\",\n",
    "    \"dynesty\": \"+\",\n",
    "}\n",
    "colours = {\n",
    "    \"inessai\": \"C0\",\n",
    "    \"nessai\": \"C1\",\n",
    "    \"dynesty\": \"C2\",\n",
    "}\n",
    "size = {\n",
    "    \"inessai\": 1,\n",
    "    \"nessai\": 30,\n",
    "    \"dynesty\": 30,\n",
    "}\n",
    "fig = plt.figure(figsize=(1.0 * figsize[0], 1.0 * figsize[1]))\n",
    "plt.axvline(60, ls='--', label='1 hour', c='black', lw=1.0, zorder=-1)\n",
    "plt.axvline(24 * 60, ls='--', label='24 hours', c='black', lw=1.0, zorder=-1)\n",
    "plt.text(60, 6e7, '1 hour')\n",
    "plt.text(24 * 60, 6e7, '24 hours')\n",
    "\n",
    "for i, (sampler, results) in enumerate(summary.items()):\n",
    "    plt.scatter(\n",
    "        results[\"wall_time\"],\n",
    "        results[\"likelihood_evaluations\"],\n",
    "        marker=markers.get(sampler),\n",
    "        label=sampler_labels.get(sampler),\n",
    "        color=colours.get(sampler),\n",
    "#         s=size.get(sampler),\n",
    "    )\n",
    "    \n",
    "plt.xlabel('Time [minutes]')\n",
    "plt.ylabel('Likelihood evaluations')\n",
    "plt.xscale('log')\n",
    "plt.yscale('log')\n",
    "plt.tight_layout()\n",
    "plt.grid()\n",
    "fig.savefig(\"figures/bbh_comparison.pdf\")"
   ]
  },
  {
   "cell_type": "code",
   "execution_count": null,
   "metadata": {},
   "outputs": [],
   "source": []
  }
 ],
 "metadata": {
  "kernelspec": {
   "display_name": "Nessai INS Paper",
   "language": "python",
   "name": "nessai-ins-paper"
  },
  "language_info": {
   "codemirror_mode": {
    "name": "ipython",
    "version": 3
   },
   "file_extension": ".py",
   "mimetype": "text/x-python",
   "name": "python",
   "nbconvert_exporter": "python",
   "pygments_lexer": "ipython3",
   "version": "3.9.13"
  }
 },
 "nbformat": 4,
 "nbformat_minor": 4
}
